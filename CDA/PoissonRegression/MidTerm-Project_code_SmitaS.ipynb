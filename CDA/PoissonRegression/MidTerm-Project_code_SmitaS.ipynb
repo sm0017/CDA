{
 "cells": [
  {
   "cell_type": "markdown",
   "metadata": {
    "collapsed": true
   },
   "source": [
    "### Identify factors impacting the number of consultations with non-doctor health profesional Using Poisson Regression"
   ]
  },
  {
   "cell_type": "code",
   "execution_count": 1,
   "metadata": {
    "collapsed": true
   },
   "outputs": [],
   "source": [
    "myData = read.csv(\"C:/Users/Smita/Desktop/CDA/midterm/mydata.csv\")"
   ]
  },
  {
   "cell_type": "code",
   "execution_count": 2,
   "metadata": {
    "collapsed": false
   },
   "outputs": [],
   "source": [
    "# removed indices column\n",
    "myData = myData[, 2:14]"
   ]
  },
  {
   "cell_type": "code",
   "execution_count": 3,
   "metadata": {
    "collapsed": false
   },
   "outputs": [
    {
     "data": {
      "text/html": [
       "<ol class=list-inline>\n",
       "\t<li>\"SEX\"</li>\n",
       "\t<li>\"AGE\"</li>\n",
       "\t<li>\"AGESQ\"</li>\n",
       "\t<li>\"INCOME\"</li>\n",
       "\t<li>\"LEVYPLUS\"</li>\n",
       "\t<li>\"FREEPOOR\"</li>\n",
       "\t<li>\"FREEREPA\"</li>\n",
       "\t<li>\"ILLNESS\"</li>\n",
       "\t<li>\"ACTDAYS\"</li>\n",
       "\t<li>\"HSCORE\"</li>\n",
       "\t<li>\"CHCOND1\"</li>\n",
       "\t<li>\"CHCOND2\"</li>\n",
       "\t<li>\"NONDOCCO\"</li>\n",
       "</ol>\n"
      ],
      "text/latex": [
       "\\begin{enumerate*}\n",
       "\\item \"SEX\"\n",
       "\\item \"AGE\"\n",
       "\\item \"AGESQ\"\n",
       "\\item \"INCOME\"\n",
       "\\item \"LEVYPLUS\"\n",
       "\\item \"FREEPOOR\"\n",
       "\\item \"FREEREPA\"\n",
       "\\item \"ILLNESS\"\n",
       "\\item \"ACTDAYS\"\n",
       "\\item \"HSCORE\"\n",
       "\\item \"CHCOND1\"\n",
       "\\item \"CHCOND2\"\n",
       "\\item \"NONDOCCO\"\n",
       "\\end{enumerate*}\n"
      ],
      "text/markdown": [
       "1. \"SEX\"\n",
       "2. \"AGE\"\n",
       "3. \"AGESQ\"\n",
       "4. \"INCOME\"\n",
       "5. \"LEVYPLUS\"\n",
       "6. \"FREEPOOR\"\n",
       "7. \"FREEREPA\"\n",
       "8. \"ILLNESS\"\n",
       "9. \"ACTDAYS\"\n",
       "10. \"HSCORE\"\n",
       "11. \"CHCOND1\"\n",
       "12. \"CHCOND2\"\n",
       "13. \"NONDOCCO\"\n",
       "\n",
       "\n"
      ],
      "text/plain": [
       " [1] \"SEX\"      \"AGE\"      \"AGESQ\"    \"INCOME\"   \"LEVYPLUS\" \"FREEPOOR\"\n",
       " [7] \"FREEREPA\" \"ILLNESS\"  \"ACTDAYS\"  \"HSCORE\"   \"CHCOND1\"  \"CHCOND2\" \n",
       "[13] \"NONDOCCO\""
      ]
     },
     "metadata": {},
     "output_type": "display_data"
    }
   ],
   "source": [
    "colnames(myData)"
   ]
  },
  {
   "cell_type": "code",
   "execution_count": 9,
   "metadata": {
    "collapsed": false
   },
   "outputs": [
    {
     "data": {
      "text/html": [
       "<table>\n",
       "<thead><tr><th></th><th scope=col>SEX</th><th scope=col>AGE</th><th scope=col>AGESQ</th><th scope=col>INCOME</th><th scope=col>LEVYPLUS</th><th scope=col>FREEPOOR</th><th scope=col>FREEREPA</th><th scope=col>ILLNESS</th><th scope=col>ACTDAYS</th><th scope=col>HSCORE</th><th scope=col>CHCOND1</th><th scope=col>CHCOND2</th><th scope=col>NONDOCCO</th></tr></thead>\n",
       "<tbody>\n",
       "\t<tr><th scope=row>1</th><td>1.0000</td><td>0.7200</td><td>0.5184</td><td>0.2500</td><td>1.0000</td><td>0.0000</td><td>0.0000</td><td>1.0000</td><td>0.0000</td><td>1.0000</td><td>1.0000</td><td>0.0000</td><td>1.0000</td></tr>\n",
       "\t<tr><th scope=row>2</th><td>1.0000</td><td>0.6200</td><td>0.3844</td><td>0.2500</td><td>0.0000</td><td>0.0000</td><td>1.0000</td><td>1.0000</td><td>0.0000</td><td>0.0000</td><td>1.0000</td><td>0.0000</td><td>1.0000</td></tr>\n",
       "\t<tr><th scope=row>3</th><td>0.0000</td><td>0.5700</td><td>0.3249</td><td>0.1500</td><td>1.0000</td><td>0.0000</td><td>0.0000</td><td>5.0000</td><td>2.0000</td><td>0.0000</td><td>0.0000</td><td>1.0000</td><td>1.0000</td></tr>\n",
       "</tbody>\n",
       "</table>\n"
      ],
      "text/latex": [
       "\\begin{tabular}{r|lllllllllllll}\n",
       "  & SEX & AGE & AGESQ & INCOME & LEVYPLUS & FREEPOOR & FREEREPA & ILLNESS & ACTDAYS & HSCORE & CHCOND1 & CHCOND2 & NONDOCCO\\\\\n",
       "\\hline\n",
       "\t1 & 1.0000 & 0.7200 & 0.5184 & 0.2500 & 1.0000 & 0.0000 & 0.0000 & 1.0000 & 0.0000 & 1.0000 & 1.0000 & 0.0000 & 1.0000\\\\\n",
       "\t2 & 1.0000 & 0.6200 & 0.3844 & 0.2500 & 0.0000 & 0.0000 & 1.0000 & 1.0000 & 0.0000 & 0.0000 & 1.0000 & 0.0000 & 1.0000\\\\\n",
       "\t3 & 0.0000 & 0.5700 & 0.3249 & 0.1500 & 1.0000 & 0.0000 & 0.0000 & 5.0000 & 2.0000 & 0.0000 & 0.0000 & 1.0000 & 1.0000\\\\\n",
       "\\end{tabular}\n"
      ],
      "text/plain": [
       "  SEX  AGE  AGESQ INCOME LEVYPLUS FREEPOOR FREEREPA ILLNESS ACTDAYS HSCORE\n",
       "1   1 0.72 0.5184   0.25        1        0        0       1       0      1\n",
       "2   1 0.62 0.3844   0.25        0        0        1       1       0      0\n",
       "3   0 0.57 0.3249   0.15        1        0        0       5       2      0\n",
       "  CHCOND1 CHCOND2 NONDOCCO\n",
       "1       1       0        1\n",
       "2       1       0        1\n",
       "3       0       1        1"
      ]
     },
     "metadata": {},
     "output_type": "display_data"
    }
   ],
   "source": [
    "head(myData,3)"
   ]
  },
  {
   "cell_type": "code",
   "execution_count": 11,
   "metadata": {
    "collapsed": true
   },
   "outputs": [],
   "source": [
    "# Missing Values in the dataset corresponding to each predictor\n",
    "na_count = sapply(myData, function(x) length(which(is.na(x)))) ##No missing values"
   ]
  },
  {
   "cell_type": "markdown",
   "metadata": {},
   "source": [
    "### Convert categorical variable as factor"
   ]
  },
  {
   "cell_type": "code",
   "execution_count": 12,
   "metadata": {
    "collapsed": false
   },
   "outputs": [],
   "source": [
    "myData$SEX = as.factor(myData$SEX)\n",
    "myData$LEVYPLUS = as.factor(myData$LEVYPLUS)\n",
    "myData$FREEPOOR = as.factor(myData$FREEPOOR)\n",
    "myData$FREEREPA = as.factor(myData$FREEREPA)\n",
    "myData$CHCOND1 = as.factor(myData$CHCOND1)\n",
    "myData$CHCOND2 = as.factor(myData$CHCOND2)"
   ]
  },
  {
   "cell_type": "code",
   "execution_count": 13,
   "metadata": {
    "collapsed": false
   },
   "outputs": [
    {
     "name": "stdout",
     "output_type": "stream",
     "text": [
      "'data.frame':\t400 obs. of  13 variables:\n",
      " $ SEX     : Factor w/ 2 levels \"0\",\"1\": 2 2 1 2 1 2 1 2 2 1 ...\n",
      " $ AGE     : num  0.72 0.62 0.57 0.72 0.32 ...\n",
      " $ AGESQ   : num  0.518 0.384 0.325 0.518 0.102 ...\n",
      " $ INCOME  : num  0.25 0.25 0.15 0.45 0.75 ...\n",
      " $ LEVYPLUS: Factor w/ 2 levels \"0\",\"1\": 2 1 2 2 2 2 2 1 1 1 ...\n",
      " $ FREEPOOR: Factor w/ 2 levels \"0\",\"1\": 1 1 1 1 1 1 1 1 1 1 ...\n",
      " $ FREEREPA: Factor w/ 2 levels \"0\",\"1\": 1 2 1 1 1 1 1 1 2 2 ...\n",
      " $ ILLNESS : int  1 1 5 5 0 0 5 3 2 2 ...\n",
      " $ ACTDAYS : int  0 0 2 0 0 0 0 0 0 0 ...\n",
      " $ HSCORE  : int  1 0 0 2 0 2 2 0 2 0 ...\n",
      " $ CHCOND1 : Factor w/ 2 levels \"0\",\"1\": 2 2 1 2 1 1 1 1 1 2 ...\n",
      " $ CHCOND2 : Factor w/ 2 levels \"0\",\"1\": 1 1 2 1 1 1 2 2 2 1 ...\n",
      " $ NONDOCCO: int  1 1 1 1 1 2 1 1 7 2 ...\n"
     ]
    }
   ],
   "source": [
    "str(myData)"
   ]
  },
  {
   "cell_type": "markdown",
   "metadata": {},
   "source": [
    "### Model 1"
   ]
  },
  {
   "cell_type": "code",
   "execution_count": 14,
   "metadata": {
    "collapsed": true
   },
   "outputs": [],
   "source": [
    "model1 = glm(NONDOCCO ~., data = myData, family = poisson)"
   ]
  },
  {
   "cell_type": "code",
   "execution_count": 15,
   "metadata": {
    "collapsed": false,
    "scrolled": true
   },
   "outputs": [
    {
     "data": {
      "text/plain": [
       "\n",
       "Call:\n",
       "glm(formula = NONDOCCO ~ ., family = poisson, data = myData)\n",
       "\n",
       "Deviance Residuals: \n",
       "    Min       1Q   Median       3Q      Max  \n",
       "-2.7328  -0.9817  -0.4376   0.2844   3.6900  \n",
       "\n",
       "Coefficients:\n",
       "             Estimate Std. Error z value Pr(>|z|)    \n",
       "(Intercept)  0.576426   0.284852   2.024   0.0430 *  \n",
       "SEX1        -0.019002   0.081104  -0.234   0.8148    \n",
       "AGE         -1.235751   1.458501  -0.847   0.3968    \n",
       "AGESQ        1.027322   1.506212   0.682   0.4952    \n",
       "INCOME      -0.290248   0.127461  -2.277   0.0228 *  \n",
       "LEVYPLUS1    0.263549   0.119333   2.209   0.0272 *  \n",
       "FREEPOOR1   -0.205028   0.280891  -0.730   0.4654    \n",
       "FREEREPA1    0.684200   0.139873   4.892 1.00e-06 ***\n",
       "ILLNESS      0.028545   0.024868   1.148   0.2510    \n",
       "ACTDAYS      0.042272   0.006624   6.382 1.75e-10 ***\n",
       "HSCORE       0.019901   0.014152   1.406   0.1597    \n",
       "CHCOND11     0.047374   0.101703   0.466   0.6414    \n",
       "CHCOND21     0.193853   0.111997   1.731   0.0835 .  \n",
       "---\n",
       "Signif. codes:  0 '***' 0.001 '**' 0.01 '*' 0.05 '.' 0.1 ' ' 1\n",
       "\n",
       "(Dispersion parameter for poisson family taken to be 1)\n",
       "\n",
       "    Null deviance: 793.21  on 399  degrees of freedom\n",
       "Residual deviance: 630.33  on 387  degrees of freedom\n",
       "AIC: 1558.4\n",
       "\n",
       "Number of Fisher Scoring iterations: 5\n"
      ]
     },
     "metadata": {},
     "output_type": "display_data"
    }
   ],
   "source": [
    "summary(model1)"
   ]
  },
  {
   "cell_type": "markdown",
   "metadata": {},
   "source": [
    "### Anova test for model-1"
   ]
  },
  {
   "cell_type": "code",
   "execution_count": 16,
   "metadata": {
    "collapsed": false,
    "scrolled": true
   },
   "outputs": [
    {
     "data": {
      "text/html": [
       "<table>\n",
       "<thead><tr><th></th><th scope=col>Df</th><th scope=col>Deviance</th><th scope=col>Resid. Df</th><th scope=col>Resid. Dev</th><th scope=col>Pr(&gt;Chi)</th></tr></thead>\n",
       "<tbody>\n",
       "\t<tr><th scope=row>NULL</th><td>      NA</td><td>      NA</td><td>399.0000</td><td>793.2051</td><td>      NA</td></tr>\n",
       "\t<tr><th scope=row>SEX</th><td>1.000000e+00</td><td>8.960559e+00</td><td>3.980000e+02</td><td>7.842446e+02</td><td>2.758705e-03</td></tr>\n",
       "\t<tr><th scope=row>AGE</th><td>1.000000e+00</td><td>2.002078e+01</td><td>3.970000e+02</td><td>7.642238e+02</td><td>7.660499e-06</td></tr>\n",
       "\t<tr><th scope=row>AGESQ</th><td>  1.0000000</td><td>  0.2959205</td><td>396.0000000</td><td>763.9278803</td><td>  0.5864513</td></tr>\n",
       "\t<tr><th scope=row>INCOME</th><td>1.000000e+00</td><td>1.819568e+01</td><td>3.950000e+02</td><td>7.457322e+02</td><td>1.993304e-05</td></tr>\n",
       "\t<tr><th scope=row>LEVYPLUS</th><td>  1.0000000</td><td>  4.8880828</td><td>394.0000000</td><td>740.8441173</td><td>  0.0270427</td></tr>\n",
       "\t<tr><th scope=row>FREEPOOR</th><td>  1.00000000</td><td>  3.46115617</td><td>393.00000000</td><td>737.38296109</td><td>  0.06282637</td></tr>\n",
       "\t<tr><th scope=row>FREEREPA</th><td>1.000000e+00</td><td>3.391957e+01</td><td>3.920000e+02</td><td>7.034634e+02</td><td>5.743793e-09</td></tr>\n",
       "\t<tr><th scope=row>ILLNESS</th><td>1.000000e+00</td><td>9.283231e+00</td><td>3.910000e+02</td><td>6.941802e+02</td><td>2.312611e-03</td></tr>\n",
       "\t<tr><th scope=row>ACTDAYS</th><td>1.000000e+00</td><td>5.686640e+01</td><td>3.900000e+02</td><td>6.373138e+02</td><td>4.664473e-14</td></tr>\n",
       "\t<tr><th scope=row>HSCORE</th><td>  1.00000000</td><td>  2.91024285</td><td>389.00000000</td><td>634.40351163</td><td>  0.08801862</td></tr>\n",
       "\t<tr><th scope=row>CHCOND1</th><td>  1.0000000</td><td>  1.0678229</td><td>388.0000000</td><td>633.3356887</td><td>  0.3014377</td></tr>\n",
       "\t<tr><th scope=row>CHCOND2</th><td>  1.00000000</td><td>  3.01051595</td><td>387.00000000</td><td>630.32517278</td><td>  0.08272596</td></tr>\n",
       "</tbody>\n",
       "</table>\n"
      ],
      "text/latex": [
       "\\begin{tabular}{r|lllll}\n",
       "  & Df & Deviance & Resid. Df & Resid. Dev & Pr(>Chi)\\\\\n",
       "\\hline\n",
       "\tNULL &       NA &       NA & 399.0000 & 793.2051 &       NA\\\\\n",
       "\tSEX & 1.000000e+00 & 8.960559e+00 & 3.980000e+02 & 7.842446e+02 & 2.758705e-03\\\\\n",
       "\tAGE & 1.000000e+00 & 2.002078e+01 & 3.970000e+02 & 7.642238e+02 & 7.660499e-06\\\\\n",
       "\tAGESQ &   1.0000000 &   0.2959205 & 396.0000000 & 763.9278803 &   0.5864513\\\\\n",
       "\tINCOME & 1.000000e+00 & 1.819568e+01 & 3.950000e+02 & 7.457322e+02 & 1.993304e-05\\\\\n",
       "\tLEVYPLUS &   1.0000000 &   4.8880828 & 394.0000000 & 740.8441173 &   0.0270427\\\\\n",
       "\tFREEPOOR &   1.00000000 &   3.46115617 & 393.00000000 & 737.38296109 &   0.06282637\\\\\n",
       "\tFREEREPA & 1.000000e+00 & 3.391957e+01 & 3.920000e+02 & 7.034634e+02 & 5.743793e-09\\\\\n",
       "\tILLNESS & 1.000000e+00 & 9.283231e+00 & 3.910000e+02 & 6.941802e+02 & 2.312611e-03\\\\\n",
       "\tACTDAYS & 1.000000e+00 & 5.686640e+01 & 3.900000e+02 & 6.373138e+02 & 4.664473e-14\\\\\n",
       "\tHSCORE &   1.00000000 &   2.91024285 & 389.00000000 & 634.40351163 &   0.08801862\\\\\n",
       "\tCHCOND1 &   1.0000000 &   1.0678229 & 388.0000000 & 633.3356887 &   0.3014377\\\\\n",
       "\tCHCOND2 &   1.00000000 &   3.01051595 & 387.00000000 & 630.32517278 &   0.08272596\\\\\n",
       "\\end{tabular}\n"
      ],
      "text/plain": [
       "Analysis of Deviance Table\n",
       "\n",
       "Model: poisson, link: log\n",
       "\n",
       "Response: NONDOCCO\n",
       "\n",
       "Terms added sequentially (first to last)\n",
       "\n",
       "\n",
       "         Df Deviance Resid. Df Resid. Dev  Pr(>Chi)    \n",
       "NULL                       399     793.21              \n",
       "SEX       1    8.961       398     784.24  0.002759 ** \n",
       "AGE       1   20.021       397     764.22 7.660e-06 ***\n",
       "AGESQ     1    0.296       396     763.93  0.586451    \n",
       "INCOME    1   18.196       395     745.73 1.993e-05 ***\n",
       "LEVYPLUS  1    4.888       394     740.84  0.027043 *  \n",
       "FREEPOOR  1    3.461       393     737.38  0.062826 .  \n",
       "FREEREPA  1   33.920       392     703.46 5.744e-09 ***\n",
       "ILLNESS   1    9.283       391     694.18  0.002313 ** \n",
       "ACTDAYS   1   56.866       390     637.31 4.664e-14 ***\n",
       "HSCORE    1    2.910       389     634.40  0.088019 .  \n",
       "CHCOND1   1    1.068       388     633.34  0.301438    \n",
       "CHCOND2   1    3.011       387     630.33  0.082726 .  \n",
       "---\n",
       "Signif. codes:  0 '***' 0.001 '**' 0.01 '*' 0.05 '.' 0.1 ' ' 1"
      ]
     },
     "metadata": {},
     "output_type": "display_data"
    }
   ],
   "source": [
    "anova(model1, test= \"Chisq\")"
   ]
  },
  {
   "cell_type": "markdown",
   "metadata": {},
   "source": [
    "### Global fit Statistics using Pearson goodness-of-fit"
   ]
  },
  {
   "cell_type": "code",
   "execution_count": 17,
   "metadata": {
    "collapsed": false
   },
   "outputs": [
    {
     "data": {
      "text/html": [
       "6.40598685208715e-14"
      ],
      "text/latex": [
       "6.40598685208715e-14"
      ],
      "text/markdown": [
       "6.40598685208715e-14"
      ],
      "text/plain": [
       "[1] 6.405987e-14"
      ]
     },
     "metadata": {},
     "output_type": "display_data"
    }
   ],
   "source": [
    "1-pchisq(model1$deviance, model1$df.residual)"
   ]
  },
  {
   "cell_type": "markdown",
   "metadata": {},
   "source": [
    "### Dispersion test"
   ]
  },
  {
   "cell_type": "code",
   "execution_count": null,
   "metadata": {
    "collapsed": true
   },
   "outputs": [],
   "source": [
    "library(AER) ## require for dispersion test"
   ]
  },
  {
   "cell_type": "code",
   "execution_count": 23,
   "metadata": {
    "collapsed": false
   },
   "outputs": [
    {
     "data": {
      "text/html": [
       "1.62874721647873"
      ],
      "text/latex": [
       "1.62874721647873"
      ],
      "text/markdown": [
       "1.62874721647873"
      ],
      "text/plain": [
       "[1] 1.628747"
      ]
     },
     "metadata": {},
     "output_type": "display_data"
    },
    {
     "data": {
      "text/plain": [
       "\n",
       "\tDispersion test\n",
       "\n",
       "data:  model1\n",
       "z = 5.5809, p-value = 2.393e-08\n",
       "alternative hypothesis: true dispersion is not equal to 1\n",
       "sample estimates:\n",
       "dispersion \n",
       "  1.779931 \n"
      ]
     },
     "metadata": {},
     "output_type": "display_data"
    }
   ],
   "source": [
    "model1$deviance/model1$df.residual\n",
    "dispersiontest(model1, alternative = \"two.sided\")"
   ]
  },
  {
   "cell_type": "markdown",
   "metadata": {},
   "source": [
    "### Model 2 using Stepwise Backward Selection"
   ]
  },
  {
   "cell_type": "code",
   "execution_count": null,
   "metadata": {
    "collapsed": true
   },
   "outputs": [],
   "source": [
    "a = step(model1, data = myData, direction = 'backward')"
   ]
  },
  {
   "cell_type": "code",
   "execution_count": 25,
   "metadata": {
    "collapsed": false
   },
   "outputs": [
    {
     "data": {
      "text/html": [
       "<table>\n",
       "<thead><tr><th></th><th scope=col>Step</th><th scope=col>Df</th><th scope=col>Deviance</th><th scope=col>Resid. Df</th><th scope=col>Resid. Dev</th><th scope=col>AIC</th></tr></thead>\n",
       "<tbody>\n",
       "\t<tr><th scope=row>1</th><td>                </td><td>NA              </td><td>NA              </td><td>387             </td><td>630.325172777268</td><td>1558.43942294096</td></tr>\n",
       "\t<tr><th scope=row>2</th><td>- SEX             </td><td>1                 </td><td>0.0547939138252787</td><td>388               </td><td>630.379966691093  </td><td>1556.49421685478  </td></tr>\n",
       "\t<tr><th scope=row>3</th><td>- CHCOND1        </td><td>1                </td><td>0.195847970555405</td><td>389              </td><td>630.575814661649 </td><td>1554.69006482534 </td></tr>\n",
       "\t<tr><th scope=row>4</th><td>- AGESQ          </td><td>1                </td><td>0.422939645393171</td><td>390              </td><td>630.998754307042 </td><td>1553.11300447073 </td></tr>\n",
       "\t<tr><th scope=row>5</th><td>- FREEPOOR       </td><td>1                </td><td>0.484546868857478</td><td>391              </td><td>631.483301175899 </td><td>1551.59755133959 </td></tr>\n",
       "\t<tr><th scope=row>6</th><td>- AGE           </td><td>1               </td><td>1.03566086163119</td><td>392             </td><td>632.51896203753 </td><td>1550.63321220122</td></tr>\n",
       "\t<tr><th scope=row>7</th><td>- ILLNESS       </td><td>1               </td><td>1.49547755458036</td><td>393             </td><td>634.014439592111</td><td>1550.1286897558 </td></tr>\n",
       "</tbody>\n",
       "</table>\n"
      ],
      "text/latex": [
       "\\begin{tabular}{r|llllll}\n",
       "  & Step & Df & Deviance & Resid. Df & Resid. Dev & AIC\\\\\n",
       "\\hline\n",
       "\t1 &                  & NA               & NA               & 387              & 630.325172777268 & 1558.43942294096\\\\\n",
       "\t2 & - SEX              & 1                  & 0.0547939138252787 & 388                & 630.379966691093   & 1556.49421685478  \\\\\n",
       "\t3 & - CHCOND1         & 1                 & 0.195847970555405 & 389               & 630.575814661649  & 1554.69006482534 \\\\\n",
       "\t4 & - AGESQ           & 1                 & 0.422939645393171 & 390               & 630.998754307042  & 1553.11300447073 \\\\\n",
       "\t5 & - FREEPOOR        & 1                 & 0.484546868857478 & 391               & 631.483301175899  & 1551.59755133959 \\\\\n",
       "\t6 & - AGE            & 1                & 1.03566086163119 & 392              & 632.51896203753  & 1550.63321220122\\\\\n",
       "\t7 & - ILLNESS        & 1                & 1.49547755458036 & 393              & 634.014439592111 & 1550.1286897558 \\\\\n",
       "\\end{tabular}\n"
      ],
      "text/plain": [
       "        Step Df   Deviance Resid. Df Resid. Dev      AIC\n",
       "1            NA         NA       387   630.3252 1558.439\n",
       "2      - SEX  1 0.05479391       388   630.3800 1556.494\n",
       "3  - CHCOND1  1 0.19584797       389   630.5758 1554.690\n",
       "4    - AGESQ  1 0.42293965       390   630.9988 1553.113\n",
       "5 - FREEPOOR  1 0.48454687       391   631.4833 1551.598\n",
       "6      - AGE  1 1.03566086       392   632.5190 1550.633\n",
       "7  - ILLNESS  1 1.49547755       393   634.0144 1550.129"
      ]
     },
     "metadata": {},
     "output_type": "display_data"
    }
   ],
   "source": [
    "a$anova"
   ]
  },
  {
   "cell_type": "markdown",
   "metadata": {
    "collapsed": true
   },
   "source": [
    "### Selected optimal model using Backward Selection"
   ]
  },
  {
   "cell_type": "code",
   "execution_count": 26,
   "metadata": {
    "collapsed": true
   },
   "outputs": [],
   "source": [
    "model2 = glm(formula = NONDOCCO ~ INCOME + LEVYPLUS + FREEREPA + ACTDAYS + \n",
    "    HSCORE + CHCOND2, family = poisson, data = myData)"
   ]
  },
  {
   "cell_type": "code",
   "execution_count": 27,
   "metadata": {
    "collapsed": false
   },
   "outputs": [
    {
     "data": {
      "text/plain": [
       "\n",
       "Call:\n",
       "glm(formula = NONDOCCO ~ INCOME + LEVYPLUS + FREEREPA + ACTDAYS + \n",
       "    HSCORE + CHCOND2, family = poisson, data = myData)\n",
       "\n",
       "Deviance Residuals: \n",
       "    Min       1Q   Median       3Q      Max  \n",
       "-2.8257  -1.0180  -0.4334   0.2876   3.6926  \n",
       "\n",
       "Coefficients:\n",
       "             Estimate Std. Error z value Pr(>|z|)    \n",
       "(Intercept)  0.334764   0.112875   2.966  0.00302 ** \n",
       "INCOME      -0.256154   0.118546  -2.161  0.03071 *  \n",
       "LEVYPLUS1    0.235565   0.105964   2.223  0.02621 *  \n",
       "FREEREPA1    0.630657   0.109449   5.762 8.31e-09 ***\n",
       "ACTDAYS      0.041240   0.006559   6.288 3.21e-10 ***\n",
       "HSCORE       0.026459   0.013433   1.970  0.04887 *  \n",
       "CHCOND21     0.165730   0.078521   2.111  0.03480 *  \n",
       "---\n",
       "Signif. codes:  0 '***' 0.001 '**' 0.01 '*' 0.05 '.' 0.1 ' ' 1\n",
       "\n",
       "(Dispersion parameter for poisson family taken to be 1)\n",
       "\n",
       "    Null deviance: 793.21  on 399  degrees of freedom\n",
       "Residual deviance: 634.01  on 393  degrees of freedom\n",
       "AIC: 1550.1\n",
       "\n",
       "Number of Fisher Scoring iterations: 5\n"
      ]
     },
     "metadata": {},
     "output_type": "display_data"
    }
   ],
   "source": [
    "summary(model2)"
   ]
  },
  {
   "cell_type": "markdown",
   "metadata": {},
   "source": [
    "#### Global-fit test"
   ]
  },
  {
   "cell_type": "code",
   "execution_count": 28,
   "metadata": {
    "collapsed": false
   },
   "outputs": [
    {
     "data": {
      "text/html": [
       "1.36779476633819e-13"
      ],
      "text/latex": [
       "1.36779476633819e-13"
      ],
      "text/markdown": [
       "1.36779476633819e-13"
      ],
      "text/plain": [
       "[1] 1.367795e-13"
      ]
     },
     "metadata": {},
     "output_type": "display_data"
    }
   ],
   "source": [
    "1-pchisq(model2$deviance, model2$df.residual) ## Pearson Goodness of fit"
   ]
  },
  {
   "cell_type": "markdown",
   "metadata": {},
   "source": [
    "#### Goodness of fit using anova"
   ]
  },
  {
   "cell_type": "code",
   "execution_count": 29,
   "metadata": {
    "collapsed": false,
    "scrolled": true
   },
   "outputs": [
    {
     "data": {
      "text/html": [
       "<table>\n",
       "<thead><tr><th></th><th scope=col>Df</th><th scope=col>Deviance</th><th scope=col>Resid. Df</th><th scope=col>Resid. Dev</th><th scope=col>Pr(&gt;Chi)</th></tr></thead>\n",
       "<tbody>\n",
       "\t<tr><th scope=row>NULL</th><td>      NA</td><td>      NA</td><td>399.0000</td><td>793.2051</td><td>      NA</td></tr>\n",
       "\t<tr><th scope=row>INCOME</th><td>1.000000e+00</td><td>3.344302e+01</td><td>3.980000e+02</td><td>7.597621e+02</td><td>7.338280e-09</td></tr>\n",
       "\t<tr><th scope=row>LEVYPLUS</th><td>  1.00000000</td><td>  4.19037332</td><td>397.00000000</td><td>755.57175405</td><td>  0.04065414</td></tr>\n",
       "\t<tr><th scope=row>FREEREPA</th><td>1.000000e+00</td><td>5.087900e+01</td><td>3.960000e+02</td><td>7.046928e+02</td><td>9.823884e-13</td></tr>\n",
       "\t<tr><th scope=row>ACTDAYS</th><td>1.000000e+00</td><td>6.048918e+01</td><td>3.950000e+02</td><td>6.442036e+02</td><td>7.398405e-15</td></tr>\n",
       "\t<tr><th scope=row>HSCORE</th><td>  1.00000000</td><td>  5.80707513</td><td>394.00000000</td><td>638.39649549</td><td>  0.01596182</td></tr>\n",
       "\t<tr><th scope=row>CHCOND2</th><td>  1.00000000</td><td>  4.38205590</td><td>393.00000000</td><td>634.01443959</td><td>  0.03631917</td></tr>\n",
       "</tbody>\n",
       "</table>\n"
      ],
      "text/latex": [
       "\\begin{tabular}{r|lllll}\n",
       "  & Df & Deviance & Resid. Df & Resid. Dev & Pr(>Chi)\\\\\n",
       "\\hline\n",
       "\tNULL &       NA &       NA & 399.0000 & 793.2051 &       NA\\\\\n",
       "\tINCOME & 1.000000e+00 & 3.344302e+01 & 3.980000e+02 & 7.597621e+02 & 7.338280e-09\\\\\n",
       "\tLEVYPLUS &   1.00000000 &   4.19037332 & 397.00000000 & 755.57175405 &   0.04065414\\\\\n",
       "\tFREEREPA & 1.000000e+00 & 5.087900e+01 & 3.960000e+02 & 7.046928e+02 & 9.823884e-13\\\\\n",
       "\tACTDAYS & 1.000000e+00 & 6.048918e+01 & 3.950000e+02 & 6.442036e+02 & 7.398405e-15\\\\\n",
       "\tHSCORE &   1.00000000 &   5.80707513 & 394.00000000 & 638.39649549 &   0.01596182\\\\\n",
       "\tCHCOND2 &   1.00000000 &   4.38205590 & 393.00000000 & 634.01443959 &   0.03631917\\\\\n",
       "\\end{tabular}\n"
      ],
      "text/plain": [
       "Analysis of Deviance Table\n",
       "\n",
       "Model: poisson, link: log\n",
       "\n",
       "Response: NONDOCCO\n",
       "\n",
       "Terms added sequentially (first to last)\n",
       "\n",
       "\n",
       "         Df Deviance Resid. Df Resid. Dev  Pr(>Chi)    \n",
       "NULL                       399     793.21              \n",
       "INCOME    1   33.443       398     759.76 7.338e-09 ***\n",
       "LEVYPLUS  1    4.190       397     755.57   0.04065 *  \n",
       "FREEREPA  1   50.879       396     704.69 9.824e-13 ***\n",
       "ACTDAYS   1   60.489       395     644.20 7.398e-15 ***\n",
       "HSCORE    1    5.807       394     638.40   0.01596 *  \n",
       "CHCOND2   1    4.382       393     634.01   0.03632 *  \n",
       "---\n",
       "Signif. codes:  0 '***' 0.001 '**' 0.01 '*' 0.05 '.' 0.1 ' ' 1"
      ]
     },
     "metadata": {},
     "output_type": "display_data"
    }
   ],
   "source": [
    "anova(model2, test= \"Chisq\")  ## anova for model comparisions"
   ]
  },
  {
   "cell_type": "markdown",
   "metadata": {},
   "source": [
    "### Compare model 2 and model 1 using anova"
   ]
  },
  {
   "cell_type": "code",
   "execution_count": 30,
   "metadata": {
    "collapsed": false
   },
   "outputs": [
    {
     "data": {
      "text/html": [
       "<table>\n",
       "<thead><tr><th></th><th scope=col>Resid. Df</th><th scope=col>Resid. Dev</th><th scope=col>Df</th><th scope=col>Deviance</th><th scope=col>Pr(&gt;Chi)</th></tr></thead>\n",
       "<tbody>\n",
       "\t<tr><th scope=row>1</th><td>393.0000</td><td>634.0144</td><td>      NA</td><td>      NA</td><td>      NA</td></tr>\n",
       "\t<tr><th scope=row>2</th><td>387.0000000</td><td>630.3251728</td><td>  6.0000000</td><td>  3.6892668</td><td>  0.7186417</td></tr>\n",
       "</tbody>\n",
       "</table>\n"
      ],
      "text/latex": [
       "\\begin{tabular}{r|lllll}\n",
       "  & Resid. Df & Resid. Dev & Df & Deviance & Pr(>Chi)\\\\\n",
       "\\hline\n",
       "\t1 & 393.0000 & 634.0144 &       NA &       NA &       NA\\\\\n",
       "\t2 & 387.0000000 & 630.3251728 &   6.0000000 &   3.6892668 &   0.7186417\\\\\n",
       "\\end{tabular}\n"
      ],
      "text/plain": [
       "Analysis of Deviance Table\n",
       "\n",
       "Model 1: NONDOCCO ~ INCOME + LEVYPLUS + FREEREPA + ACTDAYS + HSCORE + \n",
       "    CHCOND2\n",
       "Model 2: NONDOCCO ~ SEX + AGE + AGESQ + INCOME + LEVYPLUS + FREEPOOR + \n",
       "    FREEREPA + ILLNESS + ACTDAYS + HSCORE + CHCOND1 + CHCOND2\n",
       "  Resid. Df Resid. Dev Df Deviance Pr(>Chi)\n",
       "1       393     634.01                     \n",
       "2       387     630.33  6   3.6893   0.7186"
      ]
     },
     "metadata": {},
     "output_type": "display_data"
    }
   ],
   "source": [
    "anova(model2, model1, test=\"Chisq\") "
   ]
  },
  {
   "cell_type": "markdown",
   "metadata": {},
   "source": [
    "###  Testing over-under-dispersion"
   ]
  },
  {
   "cell_type": "code",
   "execution_count": 31,
   "metadata": {
    "collapsed": false
   },
   "outputs": [
    {
     "data": {
      "text/html": [
       "1.61326829412751"
      ],
      "text/latex": [
       "1.61326829412751"
      ],
      "text/markdown": [
       "1.61326829412751"
      ],
      "text/plain": [
       "[1] 1.613268"
      ]
     },
     "metadata": {},
     "output_type": "display_data"
    },
    {
     "data": {
      "text/plain": [
       "\n",
       "\tDispersion test\n",
       "\n",
       "data:  model2\n",
       "z = 5.5143, p-value = 3.502e-08\n",
       "alternative hypothesis: true dispersion is not equal to 1\n",
       "sample estimates:\n",
       "dispersion \n",
       "  1.803513 \n"
      ]
     },
     "metadata": {},
     "output_type": "display_data"
    }
   ],
   "source": [
    "library(AER)\n",
    "deviance(model2)/model2$df.residual\n",
    "dispersiontest(model2, alternative = \"two.sided\")"
   ]
  },
  {
   "cell_type": "markdown",
   "metadata": {},
   "source": [
    "### Residual diagnostic"
   ]
  },
  {
   "cell_type": "markdown",
   "metadata": {},
   "source": [
    "### Modified Poisson Regression"
   ]
  },
  {
   "cell_type": "markdown",
   "metadata": {},
   "source": [
    "####  Calculate the dispersion parameter "
   ]
  },
  {
   "cell_type": "code",
   "execution_count": 32,
   "metadata": {
    "collapsed": false
   },
   "outputs": [
    {
     "data": {
      "text/html": [
       "1.82520739884291"
      ],
      "text/latex": [
       "1.82520739884291"
      ],
      "text/markdown": [
       "1.82520739884291"
      ],
      "text/plain": [
       "[1] 1.825207"
      ]
     },
     "metadata": {},
     "output_type": "display_data"
    }
   ],
   "source": [
    "dp = sum(residuals(model2,type=\"pearson\")^2)/model2$df.res\n",
    "dp"
   ]
  },
  {
   "cell_type": "markdown",
   "metadata": {},
   "source": [
    "### Model 3"
   ]
  },
  {
   "cell_type": "code",
   "execution_count": 33,
   "metadata": {
    "collapsed": false
   },
   "outputs": [
    {
     "data": {
      "text/plain": [
       "\n",
       "Call:\n",
       "glm(formula = NONDOCCO ~ INCOME + LEVYPLUS + FREEREPA + ACTDAYS + \n",
       "    HSCORE + CHCOND2, family = poisson, data = myData)\n",
       "\n",
       "Deviance Residuals: \n",
       "    Min       1Q   Median       3Q      Max  \n",
       "-2.8257  -1.0180  -0.4334   0.2876   3.6926  \n",
       "\n",
       "Coefficients:\n",
       "             Estimate Std. Error z value Pr(>|z|)    \n",
       "(Intercept)  0.334764   0.152495   2.195   0.0281 *  \n",
       "INCOME      -0.256154   0.160156  -1.599   0.1097    \n",
       "LEVYPLUS1    0.235565   0.143158   1.645   0.0999 .  \n",
       "FREEREPA1    0.630657   0.147866   4.265 2.00e-05 ***\n",
       "ACTDAYS      0.041240   0.008861   4.654 3.25e-06 ***\n",
       "HSCORE       0.026459   0.018148   1.458   0.1448    \n",
       "CHCOND21     0.165730   0.106082   1.562   0.1182    \n",
       "---\n",
       "Signif. codes:  0 '***' 0.001 '**' 0.01 '*' 0.05 '.' 0.1 ' ' 1\n",
       "\n",
       "(Dispersion parameter for poisson family taken to be 1.825207)\n",
       "\n",
       "    Null deviance: 793.21  on 399  degrees of freedom\n",
       "Residual deviance: 634.01  on 393  degrees of freedom\n",
       "AIC: 1550.1\n",
       "\n",
       "Number of Fisher Scoring iterations: 5\n"
      ]
     },
     "metadata": {},
     "output_type": "display_data"
    }
   ],
   "source": [
    "####  Fit the modified Poisson model: coefficients are the same but the standard errors will be changed!\n",
    "summary(model2,dispersion=dp)   "
   ]
  },
  {
   "cell_type": "markdown",
   "metadata": {},
   "source": [
    "### Model selection using F-test"
   ]
  },
  {
   "cell_type": "code",
   "execution_count": 34,
   "metadata": {
    "collapsed": false,
    "scrolled": true
   },
   "outputs": [
    {
     "name": "stderr",
     "output_type": "stream",
     "text": [
      "Warning message in drop1.glm(model2, test = \"F\"):\n",
      "\"F test assumes 'quasipoisson' family\""
     ]
    },
    {
     "data": {
      "text/html": [
       "<table>\n",
       "<thead><tr><th></th><th scope=col>Df</th><th scope=col>Deviance</th><th scope=col>AIC</th><th scope=col>F value</th><th scope=col>Pr(&gt;F)</th></tr></thead>\n",
       "<tbody>\n",
       "\t<tr><th scope=row>&lt;none&gt;</th><td>       NA</td><td> 634.0144</td><td>1550.1287</td><td>       NA</td><td>       NA</td></tr>\n",
       "\t<tr><th scope=row>INCOME</th><td>1.000000e+00</td><td>6.387928e+02</td><td>1.552907e+03</td><td>2.961922e+00</td><td>8.603359e-02</td></tr>\n",
       "\t<tr><th scope=row>LEVYPLUS</th><td>1.000000e+00</td><td>6.391341e+02</td><td>1.553248e+03</td><td>3.173455e+00</td><td>7.561614e-02</td></tr>\n",
       "\t<tr><th scope=row>FREEREPA</th><td>1.000000e+00</td><td>6.700052e+02</td><td>1.584119e+03</td><td>2.230925e+01</td><td>3.235522e-06</td></tr>\n",
       "\t<tr><th scope=row>ACTDAYS</th><td>1.000000e+00</td><td>6.707838e+02</td><td>1.584898e+03</td><td>2.279184e+01</td><td>2.551427e-06</td></tr>\n",
       "\t<tr><th scope=row>HSCORE</th><td>   1.0000000</td><td> 637.8136262</td><td>1551.9278764</td><td>   2.3549627</td><td>   0.1256895</td></tr>\n",
       "\t<tr><th scope=row>CHCOND2</th><td>   1.0000000</td><td> 638.3964955</td><td>1552.5107457</td><td>   2.7162599</td><td>   0.1001297</td></tr>\n",
       "</tbody>\n",
       "</table>\n"
      ],
      "text/latex": [
       "\\begin{tabular}{r|lllll}\n",
       "  & Df & Deviance & AIC & F value & Pr(>F)\\\\\n",
       "\\hline\n",
       "\t<none> &        NA &  634.0144 & 1550.1287 &        NA &        NA\\\\\n",
       "\tINCOME & 1.000000e+00 & 6.387928e+02 & 1.552907e+03 & 2.961922e+00 & 8.603359e-02\\\\\n",
       "\tLEVYPLUS & 1.000000e+00 & 6.391341e+02 & 1.553248e+03 & 3.173455e+00 & 7.561614e-02\\\\\n",
       "\tFREEREPA & 1.000000e+00 & 6.700052e+02 & 1.584119e+03 & 2.230925e+01 & 3.235522e-06\\\\\n",
       "\tACTDAYS & 1.000000e+00 & 6.707838e+02 & 1.584898e+03 & 2.279184e+01 & 2.551427e-06\\\\\n",
       "\tHSCORE &    1.0000000 &  637.8136262 & 1551.9278764 &    2.3549627 &    0.1256895\\\\\n",
       "\tCHCOND2 &    1.0000000 &  638.3964955 & 1552.5107457 &    2.7162599 &    0.1001297\\\\\n",
       "\\end{tabular}\n"
      ],
      "text/plain": [
       "Single term deletions\n",
       "\n",
       "Model:\n",
       "NONDOCCO ~ INCOME + LEVYPLUS + FREEREPA + ACTDAYS + HSCORE + \n",
       "    CHCOND2\n",
       "         Df Deviance    AIC F value    Pr(>F)    \n",
       "<none>        634.01 1550.1                      \n",
       "INCOME    1   638.79 1552.9  2.9619   0.08603 .  \n",
       "LEVYPLUS  1   639.13 1553.2  3.1735   0.07562 .  \n",
       "FREEREPA  1   670.01 1584.1 22.3092 3.236e-06 ***\n",
       "ACTDAYS   1   670.78 1584.9 22.7918 2.551e-06 ***\n",
       "HSCORE    1   637.81 1551.9  2.3550   0.12569    \n",
       "CHCOND2   1   638.40 1552.5  2.7163   0.10013    \n",
       "---\n",
       "Signif. codes:  0 '***' 0.001 '**' 0.01 '*' 0.05 '.' 0.1 ' ' 1"
      ]
     },
     "metadata": {},
     "output_type": "display_data"
    }
   ],
   "source": [
    "drop1(model2,test=\"F\")   "
   ]
  },
  {
   "cell_type": "code",
   "execution_count": 35,
   "metadata": {
    "collapsed": false
   },
   "outputs": [
    {
     "name": "stderr",
     "output_type": "stream",
     "text": [
      "Warning message in log(predict(model2)):\n",
      "\"NaNs produced\""
     ]
    },
    {
     "data": {
      "image/png": "[encoded data removed]",
      "text/plain": [
       "plot without title"
      ]
     },
     "metadata": {},
     "output_type": "display_data"
    },
    {
     "data": {
      "image/png": "[encoded data removed]",
      "text/plain": [
       "Plot with title \"Normal Q-Q Plot\""
      ]
     },
     "metadata": {},
     "output_type": "display_data"
    }
   ],
   "source": [
    "res = residuals(model2, type=\"deviance\")\n",
    "plot(log(predict(model2)), res)\n",
    "abline(h=0, lty=2)\n",
    "qqnorm(res)\n",
    "qqline(res)"
   ]
  }
 ],
 "metadata": {
  "anaconda-cloud": {},
  "kernelspec": {
   "display_name": "R [conda env:R]",
   "language": "R",
   "name": "conda-env-R-r"
  },
  "language_info": {
   "codemirror_mode": "r",
   "file_extension": ".r",
   "mimetype": "text/x-r-source",
   "name": "R",
   "pygments_lexer": "r",
   "version": "3.3.1"
  }
 },
 "nbformat": 4,
 "nbformat_minor": 1
}
